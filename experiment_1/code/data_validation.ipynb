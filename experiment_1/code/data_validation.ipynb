{
 "cells": [
  {
   "cell_type": "code",
   "execution_count": 3,
   "id": "a6cdccd1",
   "metadata": {},
   "outputs": [],
   "source": [
    "import pandas as pd"
   ]
  },
  {
   "cell_type": "code",
   "execution_count": 6,
   "id": "db869e72",
   "metadata": {},
   "outputs": [],
   "source": [
    "df = pd.read_csv('../output/gemma-2-2b-instruct-answers-math.csv')"
   ]
  },
  {
   "cell_type": "code",
   "execution_count": 7,
   "id": "c117b3d2",
   "metadata": {},
   "outputs": [
    {
     "data": {
      "text/html": [
       "<div>\n",
       "<style scoped>\n",
       "    .dataframe tbody tr th:only-of-type {\n",
       "        vertical-align: middle;\n",
       "    }\n",
       "\n",
       "    .dataframe tbody tr th {\n",
       "        vertical-align: top;\n",
       "    }\n",
       "\n",
       "    .dataframe thead th {\n",
       "        text-align: right;\n",
       "    }\n",
       "</style>\n",
       "<table border=\"1\" class=\"dataframe\">\n",
       "  <thead>\n",
       "    <tr style=\"text-align: right;\">\n",
       "      <th></th>\n",
       "      <th>Unnamed: 0</th>\n",
       "      <th>raw_question</th>\n",
       "      <th>question</th>\n",
       "      <th>model_answer</th>\n",
       "      <th>correct_answer</th>\n",
       "      <th>automatic_correctness</th>\n",
       "      <th>exact_answer</th>\n",
       "      <th>valid_exact_answer</th>\n",
       "    </tr>\n",
       "  </thead>\n",
       "  <tbody>\n",
       "    <tr>\n",
       "      <th>0</th>\n",
       "      <td>0</td>\n",
       "      <td>Mike made 69 dollars mowing lawns over the su...</td>\n",
       "      <td>Q:  Mike made 69 dollars mowing lawns over the...</td>\n",
       "      <td>13.2\\n</td>\n",
       "      <td>9.0</td>\n",
       "      <td>0</td>\n",
       "      <td>A: The capital of France is</td>\n",
       "      <td>0</td>\n",
       "    </tr>\n",
       "    <tr>\n",
       "      <th>1</th>\n",
       "      <td>1</td>\n",
       "      <td>Bill is a painter who is hired to paint a clie...</td>\n",
       "      <td>Q: Bill is a painter who is hired to paint a c...</td>\n",
       "      <td>12\\n</td>\n",
       "      <td>10.0</td>\n",
       "      <td>0</td>\n",
       "      <td>NaN</td>\n",
       "      <td>0</td>\n",
       "    </tr>\n",
       "    <tr>\n",
       "      <th>2</th>\n",
       "      <td>2</td>\n",
       "      <td>James gets bored with his game so decides to p...</td>\n",
       "      <td>Q: James gets bored with his game so decides t...</td>\n",
       "      <td>30 hours\\n</td>\n",
       "      <td>50.0</td>\n",
       "      <td>0</td>\n",
       "      <td>&lt;end_of_turn&gt;</td>\n",
       "      <td>0</td>\n",
       "    </tr>\n",
       "    <tr>\n",
       "      <th>3</th>\n",
       "      <td>3</td>\n",
       "      <td>A shady restaurant is charging customers gratu...</td>\n",
       "      <td>Q: A shady restaurant is charging customers gr...</td>\n",
       "      <td>$10\\n</td>\n",
       "      <td>41.0</td>\n",
       "      <td>0</td>\n",
       "      <td>The goal is to extract the **short answer** fr...</td>\n",
       "      <td>0</td>\n",
       "    </tr>\n",
       "    <tr>\n",
       "      <th>4</th>\n",
       "      <td>4</td>\n",
       "      <td>Isaac cut his 30 meters ribbon into 6 equal pa...</td>\n",
       "      <td>Q: Isaac cut his 30 meters ribbon into 6 equal...</td>\n",
       "      <td>10 meters\\n</td>\n",
       "      <td>10.0</td>\n",
       "      <td>1</td>\n",
       "      <td>NaN</td>\n",
       "      <td>1</td>\n",
       "    </tr>\n",
       "  </tbody>\n",
       "</table>\n",
       "</div>"
      ],
      "text/plain": [
       "   Unnamed: 0                                       raw_question  \\\n",
       "0           0   Mike made 69 dollars mowing lawns over the su...   \n",
       "1           1  Bill is a painter who is hired to paint a clie...   \n",
       "2           2  James gets bored with his game so decides to p...   \n",
       "3           3  A shady restaurant is charging customers gratu...   \n",
       "4           4  Isaac cut his 30 meters ribbon into 6 equal pa...   \n",
       "\n",
       "                                            question  model_answer  \\\n",
       "0  Q:  Mike made 69 dollars mowing lawns over the...        13.2\\n   \n",
       "1  Q: Bill is a painter who is hired to paint a c...          12\\n   \n",
       "2  Q: James gets bored with his game so decides t...    30 hours\\n   \n",
       "3  Q: A shady restaurant is charging customers gr...         $10\\n   \n",
       "4  Q: Isaac cut his 30 meters ribbon into 6 equal...   10 meters\\n   \n",
       "\n",
       "   correct_answer  automatic_correctness  \\\n",
       "0             9.0                      0   \n",
       "1            10.0                      0   \n",
       "2            50.0                      0   \n",
       "3            41.0                      0   \n",
       "4            10.0                      1   \n",
       "\n",
       "                                        exact_answer  valid_exact_answer  \n",
       "0                        A: The capital of France is                   0  \n",
       "1                                                NaN                   0  \n",
       "2                                      <end_of_turn>                   0  \n",
       "3  The goal is to extract the **short answer** fr...                   0  \n",
       "4                                                NaN                   1  "
      ]
     },
     "execution_count": 7,
     "metadata": {},
     "output_type": "execute_result"
    }
   ],
   "source": [
    "df.head()"
   ]
  },
  {
   "cell_type": "code",
   "execution_count": 11,
   "id": "0c39b747",
   "metadata": {},
   "outputs": [
    {
     "data": {
      "text/plain": [
       "automatic_correctness\n",
       "0    1583\n",
       "1     367\n",
       "Name: count, dtype: int64"
      ]
     },
     "execution_count": 11,
     "metadata": {},
     "output_type": "execute_result"
    }
   ],
   "source": [
    "df['automatic_correctness'].value_counts()"
   ]
  },
  {
   "cell_type": "code",
   "execution_count": null,
   "id": "ece1870e",
   "metadata": {},
   "outputs": [],
   "source": []
  }
 ],
 "metadata": {
  "kernelspec": {
   "display_name": "Project_Viveka_3.11",
   "language": "python",
   "name": "python3"
  },
  "language_info": {
   "codemirror_mode": {
    "name": "ipython",
    "version": 3
   },
   "file_extension": ".py",
   "mimetype": "text/x-python",
   "name": "python",
   "nbconvert_exporter": "python",
   "pygments_lexer": "ipython3",
   "version": "3.11.13"
  }
 },
 "nbformat": 4,
 "nbformat_minor": 5
}
