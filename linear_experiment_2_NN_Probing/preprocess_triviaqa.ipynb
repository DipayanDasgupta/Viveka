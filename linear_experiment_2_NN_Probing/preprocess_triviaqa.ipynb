{
 "cells": [
  {
   "cell_type": "code",
   "execution_count": null,
   "id": "eb43b9ee",
   "metadata": {},
   "outputs": [],
   "source": [
    "import pandas as pd\n",
    "import json"
   ]
  },
  {
   "cell_type": "code",
   "execution_count": null,
   "id": "63b70fa4",
   "metadata": {},
   "outputs": [],
   "source": [
    "%cd /kaggle/working"
   ]
  },
  {
   "cell_type": "code",
   "execution_count": null,
   "id": "c7bc0dfd",
   "metadata": {},
   "outputs": [],
   "source": [
    "# Load your JSON file\n",
    "with open(\"/kaggle/input/triviaqa-unfiltered/triviaqa-unfiltered/unfiltered-web-train.json\", \"r\", encoding=\"utf-8\") as f:\n",
    "    data = json.load(f)\n",
    "\n",
    "# Extract entries\n",
    "entries = data[\"Data\"]\n",
    "\n",
    "# Prepare output rows\n",
    "rows = []\n",
    "for entry in entries:\n",
    "    question = entry.get(\"Question\", \"\")\n",
    "    \n",
    "    # Get list of all answer aliases if available, else just the main value\n",
    "    answer_info = entry.get(\"Answer\", {})\n",
    "    aliases = answer_info.get(\"Aliases\")\n",
    "    \n",
    "    if aliases and isinstance(aliases, list):\n",
    "        answer_list = aliases\n",
    "    else:\n",
    "        value = answer_info.get(\"Value\", \"\")\n",
    "        answer_list = [value] if value else []\n",
    "\n",
    "    # Store row\n",
    "    rows.append({\n",
    "        \"raw_question\": question,\n",
    "        \"correct_answer\": str(answer_list)  # stringified list like in the CSV\n",
    "    })\n",
    "\n",
    "# Convert to DataFrame and save\n",
    "df = pd.DataFrame(rows)\n",
    "df.to_csv(\"triviaqa-formatted.csv\", index=False)\n",
    "\n",
    "print(\"Saved to triviaqa-formatted.csv\")\n"
   ]
  },
  {
   "cell_type": "code",
   "execution_count": null,
   "id": "a4a6baea",
   "metadata": {},
   "outputs": [],
   "source": [
    "n = 20000  # Number of samples\n",
    "seed = 42  # Reproducible seed\n",
    "\n",
    "# Parameters\n",
    "csv_path = \"triviaqa-formatted.csv\"  # Input CSV\n",
    "output_path = f\"triviaqa-subsampled_{n}.csv\"  # Output CSV\n",
    "\n",
    "# Load full CSV\n",
    "df = pd.read_csv(csv_path)\n",
    "\n",
    "# Sample n rows with fixed seed\n",
    "sampled_df = df.sample(n=n, random_state=seed)\n",
    "\n",
    "# Save to new CSV\n",
    "sampled_df.to_csv(output_path, index=False)\n",
    "\n",
    "print(f\"Sampled {n} rows and saved to {output_path}\")\n"
   ]
  }
 ],
 "metadata": {
  "language_info": {
   "name": "python"
  }
 },
 "nbformat": 4,
 "nbformat_minor": 5
}
